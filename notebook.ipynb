{
 "cells": [
  {
   "cell_type": "markdown",
   "metadata": {},
   "source": [
    "# Import Package"
   ]
  },
  {
   "cell_type": "code",
   "execution_count": 1,
   "metadata": {},
   "outputs": [],
   "source": [
    "import tensorflow as tf\n",
    "from  matplotlib import pyplot as plt\n",
    "import splitfolders\n",
    "%matplotlib inline"
   ]
  },
  {
   "cell_type": "markdown",
   "metadata": {},
   "source": [
    "# Split Data"
   ]
  },
  {
   "cell_type": "code",
   "execution_count": 2,
   "metadata": {},
   "outputs": [],
   "source": [
    "DATA_DIR = 'Dataset'"
   ]
  },
  {
   "cell_type": "code",
   "execution_count": 6,
   "metadata": {},
   "outputs": [
    {
     "name": "stderr",
     "output_type": "stream",
     "text": [
      "Copying files: 8982 files [00:48, 184.32 files/s]\n"
     ]
    }
   ],
   "source": [
    "splitfolders.ratio(DATA_DIR, output='data-split-80-20', seed=42, ratio=(.8, .2,))"
   ]
  },
  {
   "cell_type": "markdown",
   "metadata": {},
   "source": [
    "# Generate Data"
   ]
  },
  {
   "cell_type": "code",
   "execution_count": 3,
   "metadata": {},
   "outputs": [],
   "source": [
    "IMAGE_SHAPE = (300, 300)\n",
    "TRAINING_DATA_DIR = 'data-split-80-20/train'\n",
    "VALID_DATA_DIR = 'data-split-80-20/val'"
   ]
  },
  {
   "cell_type": "code",
   "execution_count": 4,
   "metadata": {},
   "outputs": [
    {
     "name": "stdout",
     "output_type": "stream",
     "text": [
      "Found 7185 images belonging to 3 classes.\n",
      "Found 1797 images belonging to 3 classes.\n"
     ]
    }
   ],
   "source": [
    "datagen = tf.keras.preprocessing.image.ImageDataGenerator(\n",
    "    rescale=1./255\n",
    ")\n",
    "train_generator = datagen.flow_from_directory(\n",
    "    TRAINING_DATA_DIR,\n",
    "    shuffle=True,\n",
    "    target_size=IMAGE_SHAPE,\n",
    ")\n",
    "valid_generator = datagen.flow_from_directory(\n",
    "    VALID_DATA_DIR,\n",
    "    shuffle=False,\n",
    "    target_size=IMAGE_SHAPE,\n",
    ")"
   ]
  },
  {
   "cell_type": "markdown",
   "metadata": {},
   "source": [
    "# Build Model"
   ]
  },
  {
   "cell_type": "code",
   "execution_count": 7,
   "metadata": {},
   "outputs": [],
   "source": [
    "def build_model(num_classes):\n",
    "    model = tf.keras.Sequential([\n",
    "    tf.keras.layers.Conv2D(filters=8, kernel_size=(3, 3), activation='relu', \n",
    "                           input_shape=(300, 300, 3)),\n",
    "    tf.keras.layers.MaxPooling2D(pool_size=(2, 2), strides=2),\n",
    "    tf.keras.layers.Conv2D(filters=16, kernel_size=(3, 3), activation='relu'),\n",
    "    tf.keras.layers.MaxPooling2D(pool_size=(2, 2), strides=2),\n",
    "    tf.keras.layers.Conv2D(filters=32, kernel_size=(3, 3), activation='relu'),\n",
    "    tf.keras.layers.MaxPooling2D(pool_size=(2, 2), strides=2),\n",
    "    tf.keras.layers.Flatten(),\n",
    "    tf.keras.layers.Dense(64, activation='relu'),\n",
    "    tf.keras.layers.Dense(num_classes, activation='softmax')\n",
    "    ])\n",
    "    return model\n",
    "model = build_model(num_classes=3)"
   ]
  },
  {
   "cell_type": "markdown",
   "metadata": {},
   "source": [
    "# Compile Model"
   ]
  },
  {
   "cell_type": "code",
   "execution_count": 8,
   "metadata": {},
   "outputs": [
    {
     "name": "stdout",
     "output_type": "stream",
     "text": [
      "Model: \"sequential_1\"\n",
      "_________________________________________________________________\n",
      "Layer (type)                 Output Shape              Param #   \n",
      "=================================================================\n",
      "conv2d_3 (Conv2D)            (None, 298, 298, 8)       224       \n",
      "_________________________________________________________________\n",
      "max_pooling2d_3 (MaxPooling2 (None, 149, 149, 8)       0         \n",
      "_________________________________________________________________\n",
      "conv2d_4 (Conv2D)            (None, 147, 147, 16)      1168      \n",
      "_________________________________________________________________\n",
      "max_pooling2d_4 (MaxPooling2 (None, 73, 73, 16)        0         \n",
      "_________________________________________________________________\n",
      "conv2d_5 (Conv2D)            (None, 71, 71, 32)        4640      \n",
      "_________________________________________________________________\n",
      "max_pooling2d_5 (MaxPooling2 (None, 35, 35, 32)        0         \n",
      "_________________________________________________________________\n",
      "flatten_1 (Flatten)          (None, 39200)             0         \n",
      "_________________________________________________________________\n",
      "dense_2 (Dense)              (None, 64)                2508864   \n",
      "_________________________________________________________________\n",
      "dense_3 (Dense)              (None, 3)                 195       \n",
      "=================================================================\n",
      "Total params: 2,515,091\n",
      "Trainable params: 2,515,091\n",
      "Non-trainable params: 0\n",
      "_________________________________________________________________\n",
      "None\n"
     ]
    }
   ],
   "source": [
    "model.compile(\n",
    "    optimizer=tf.keras.optimizers.Adam(learning_rate=0.0001),\n",
    "    loss=tf.keras.losses.CategoricalCrossentropy(from_logits=True),\n",
    "    metrics=['accuracy']\n",
    ")\n",
    "print(model.summary())"
   ]
  },
  {
   "cell_type": "code",
   "execution_count": 9,
   "metadata": {},
   "outputs": [],
   "source": [
    "from tensorflow.keras.callbacks import EarlyStopping\n",
    "early_stopping = EarlyStopping(\n",
    "    monitor='val_accuracy', \n",
    "    patience=2, \n",
    "    min_delta=0.001, \n",
    "    mode='max'\n",
    "    )"
   ]
  },
  {
   "cell_type": "code",
   "execution_count": 10,
   "metadata": {},
   "outputs": [
    {
     "name": "stdout",
     "output_type": "stream",
     "text": [
      "Epoch 1/10\n"
     ]
    },
    {
     "name": "stderr",
     "output_type": "stream",
     "text": [
      "c:\\Users\\ASUS\\anaconda3\\envs\\data-science\\lib\\site-packages\\keras\\backend.py:4846: UserWarning: \"`categorical_crossentropy` received `from_logits=True`, but the `output` argument was produced by a sigmoid or softmax activation and thus does not represent logits. Was this intended?\"\n",
      "  warnings.warn(\n"
     ]
    },
    {
     "name": "stdout",
     "output_type": "stream",
     "text": [
      "224/224 [==============================] - 237s 1s/step - loss: 0.5342 - accuracy: 0.7827 - val_loss: 0.2867 - val_accuracy: 0.9169\n",
      "Epoch 2/10\n",
      "224/224 [==============================] - 217s 969ms/step - loss: 0.2636 - accuracy: 0.9095 - val_loss: 0.2158 - val_accuracy: 0.9319\n",
      "Epoch 3/10\n",
      "224/224 [==============================] - 215s 957ms/step - loss: 0.2186 - accuracy: 0.9258 - val_loss: 0.1912 - val_accuracy: 0.9358\n",
      "Epoch 4/10\n",
      "224/224 [==============================] - 178s 793ms/step - loss: 0.1922 - accuracy: 0.9328 - val_loss: 0.1946 - val_accuracy: 0.9208\n",
      "Epoch 5/10\n",
      "224/224 [==============================] - 238s 1s/step - loss: 0.1643 - accuracy: 0.9455 - val_loss: 0.1482 - val_accuracy: 0.9503\n",
      "Epoch 6/10\n",
      "224/224 [==============================] - 240s 1s/step - loss: 0.1444 - accuracy: 0.9490 - val_loss: 0.1433 - val_accuracy: 0.9453\n",
      "Epoch 7/10\n",
      "224/224 [==============================] - 265s 1s/step - loss: 0.1269 - accuracy: 0.9585 - val_loss: 0.1247 - val_accuracy: 0.9570\n",
      "Epoch 8/10\n",
      "224/224 [==============================] - 209s 929ms/step - loss: 0.1131 - accuracy: 0.9618 - val_loss: 0.1252 - val_accuracy: 0.9487\n",
      "Epoch 9/10\n",
      "224/224 [==============================] - 217s 967ms/step - loss: 0.1026 - accuracy: 0.9662 - val_loss: 0.1263 - val_accuracy: 0.9509\n"
     ]
    }
   ],
   "source": [
    "EPOCHS = 10\n",
    "BATCH_SIZE = 32\n",
    "history = model.fit(train_generator,\n",
    "                    steps_per_epoch=train_generator.samples // BATCH_SIZE,\n",
    "                    epochs=EPOCHS,\n",
    "                    validation_data=valid_generator,\n",
    "                    validation_steps= valid_generator.samples // BATCH_SIZE,\n",
    "                    verbose=1,\n",
    "                    callbacks=[early_stopping]\n",
    "                    )"
   ]
  },
  {
   "cell_type": "markdown",
   "metadata": {},
   "source": [
    "# Plot History"
   ]
  },
  {
   "cell_type": "code",
   "execution_count": 11,
   "metadata": {},
   "outputs": [
    {
     "data": {
      "image/png": "[encoded data removed]",
      "text/plain": [
       "<Figure size 432x288 with 1 Axes>"
      ]
     },
     "metadata": {
      "needs_background": "light"
     },
     "output_type": "display_data"
    },
    {
     "data": {
      "image/png": "[encoded data removed]",
      "text/plain": [
       "<Figure size 432x288 with 1 Axes>"
      ]
     },
     "metadata": {
      "needs_background": "light"
     },
     "output_type": "display_data"
    }
   ],
   "source": [
    "train_loss = history.history['loss']\n",
    "train_acc = history.history['accuracy']\n",
    "valid_loss = history.history['val_loss']\n",
    "valid_acc = history.history['val_accuracy']\n",
    "def save_plots(train_acc, valid_acc, train_loss, valid_loss):\n",
    "    \"\"\"\n",
    "    Function to save the loss and accuracy plots to disk.\n",
    "    \"\"\"\n",
    "    # accuracy plots\n",
    "    plt.figure(figsize=(6, 4))\n",
    "    plt.plot(\n",
    "        train_acc, color='green', linestyle='-', \n",
    "        label='train accuracy'\n",
    "    )\n",
    "    plt.plot(\n",
    "        valid_acc, color='blue', linestyle='-', \n",
    "        label='validataion accuracy'\n",
    "    )\n",
    "    plt.xlabel('Epochs')\n",
    "    plt.ylabel('Accuracy')\n",
    "    plt.legend()\n",
    "    plt.ylim([0,1])\n",
    "    plt.savefig('img/accuracy.png')\n",
    "    \n",
    "    # loss plots\n",
    "    plt.figure(figsize=(6, 4))\n",
    "    plt.plot(\n",
    "        train_loss, color='orange', linestyle='-', \n",
    "        label='train loss'\n",
    "    )\n",
    "    plt.plot(\n",
    "        valid_loss, color='red', linestyle='-', \n",
    "        label='validation loss'\n",
    "    )\n",
    "    plt.xlabel('Epochs')\n",
    "    plt.ylabel('Loss')\n",
    "    plt.legend()\n",
    "    plt.savefig('img/loss.png')\n",
    "    plt.show()\n",
    "save_plots(train_acc, valid_acc, train_loss, valid_loss)"
   ]
  },
  {
   "cell_type": "markdown",
   "metadata": {},
   "source": [
    "# Save Model"
   ]
  },
  {
   "cell_type": "code",
   "execution_count": 14,
   "metadata": {},
   "outputs": [],
   "source": [
    "import datetime\n",
    "model.save(f'{str(datetime.datetime.now())[:10]}-{round(train_acc[len(train_acc)-1]* 100, 2)}_acc.h5')\n"
   ]
  }
 ],
 "metadata": {
  "interpreter": {
   "hash": "385c233acc2d0f91f9c49e9f2422b444b1282c215ea8de0a500670b321092d3d"
  },
  "kernelspec": {
   "display_name": "Python 3.8.5 ('data-science')",
   "language": "python",
   "name": "python3"
  },
  "language_info": {
   "codemirror_mode": {
    "name": "ipython",
    "version": 3
   },
   "file_extension": ".py",
   "mimetype": "text/x-python",
   "name": "python",
   "nbconvert_exporter": "python",
   "pygments_lexer": "ipython3",
   "version": "3.8.5"
  },
  "orig_nbformat": 4
 },
 "nbformat": 4,
 "nbformat_minor": 2
}
